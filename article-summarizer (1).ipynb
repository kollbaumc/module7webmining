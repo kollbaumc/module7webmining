{
 "cells": [
  {
   "cell_type": "markdown",
   "metadata": {},
   "source": [
    "# Web Mining and Applied NLP (44-620)\n",
    "\n",
    "## Final Project: Article Summarizer\n",
    "\n",
    "### Student Name:  Chris Kollbaum\n",
    "\n",
    "https://github.com/kollbaumc/module7webmining\n",
    "\n",
    "Perform the tasks described in the Markdown cells below.  When you have completed the assignment make sure your code cells have all been run (and have output beneath them) and ensure you have committed and pushed ALL of your changes to your assignment repository.\n",
    "\n",
    "You should bring in code from previous assignments to help you answer the questions below.\n",
    "\n",
    "Every question that requires you to write code will have a code cell underneath it; you may either write your entire solution in that cell or write it in a python file (`.py`), then import and run the appropriate code to answer the question."
   ]
  },
  {
   "cell_type": "markdown",
   "metadata": {},
   "source": [
    "1. Find on the internet an article or blog post about a topic that interests you and you are able to get the text for using the technologies we have applied in the course.  Get the html for the article and store it in a file (which you must submit with your project)"
   ]
  },
  {
   "cell_type": "markdown",
   "metadata": {},
   "source": [
    "# Answer Question 1"
   ]
  },
  {
   "cell_type": "code",
   "execution_count": 2,
   "metadata": {},
   "outputs": [],
   "source": [
    "\n",
    "from collections import Counter\n",
    "import pickle\n",
    "import requests\n",
    "import spacy\n",
    "from bs4 import BeautifulSoup\n",
    "import matplotlib.pyplot as plt\n"
   ]
  },
  {
   "cell_type": "code",
   "execution_count": 3,
   "metadata": {},
   "outputs": [
    {
     "name": "stdout",
     "output_type": "stream",
     "text": [
      "200\n",
      "text/html; charset=utf-8\n",
      "h1 header: <h1 class=\"gnt_ar_hl\" elementtiming=\"ar-headline\">Jimmy V Classic: Cold-shooting Iowa flops in big-stage loss to No. 15 Duke</h1>\n",
      "h1 text: Jimmy V Classic: Cold-shooting Iowa flops in big-stage loss to No. 15 Duke\n"
     ]
    }
   ],
   "source": [
    "import requests\n",
    "results = requests.get('https://www.desmoinesregister.com/story/sports/college/iowa/basketball-men/2022/12/07/iowa-basketball-big-stage-loss-to-duke-at-jimmy-v-classic-madison-square-garden-kris-murray/69692172007/')\n",
    "print(results.status_code)\n",
    "print(results.headers['content-type'])\n",
    "from bs4 import BeautifulSoup\n",
    "parser = 'html.parser'\n",
    "soup = BeautifulSoup(results.text, parser)\n",
    "for header in soup.findAll('h1'):\n",
    "    print('h1 header:', header)\n",
    "    print('h1 text:', header.text)"
   ]
  },
  {
   "cell_type": "code",
   "execution_count": 4,
   "metadata": {},
   "outputs": [],
   "source": [
    "import pickle\n",
    "with open('python-match.pkl', 'wb') as f:\n",
    "    pickle.dump(results.text, f)\n",
    "with open('python-match.pkl', 'rb') as f:\n",
    "    article_html = pickle.load(f)"
   ]
  },
  {
   "cell_type": "markdown",
   "metadata": {},
   "source": [
    "2. Read in your article's html source from the file you created in question 1 and do sentiment analysis on the article/post's text (use `.get_text()`).  Print the polarity score with an appropriate label.  Additionally print the number of sentences in the original article (with an appropriate label)"
   ]
  },
  {
   "cell_type": "markdown",
   "metadata": {},
   "source": [
    "# Answer Question 2"
   ]
  },
  {
   "cell_type": "code",
   "execution_count": 5,
   "metadata": {},
   "outputs": [
    {
     "name": "stdout",
     "output_type": "stream",
     "text": [
      "IOWA MEN'S BASKETBALLJimmy V Classic: Cold-shooting Iowa flops in big-stage loss to No. 15 Duke Chad LeistikowDes Moines RegisterView CommentsView CommentsNEW YORK − The Jimmy V Classic tussle between Iowa and Duke didn’t tip off until after 10 p.m. Eastern time, and for most of the game it seemed like the Hawkeyes were past their bedtime.A pro-Duke crowd of 17,828 at Madison Square Garden saw the 15th-ranked Blue Devils take advantage of a listless performance from No. 24-ranked Iowa and rolled to a 74-62 win. Duke fans chanted, \"Our house!\" as the game wound to its merciful conclusion.This was Iowa's first game against Duke in 21 years, and it was not the type of national-TV splash Fran McCaffery's Hawkeyes wanted to make on ESPN at the World's Most Famous Arena. And so it remains, the Hawkeyes' only win in nine tries vs. blueblood Duke was at the 1994 Rainbow Classic in Hawaii.A cold-shooting trend that started during an Emerald Coast Classic split (vs. Clemson and TCU) continued for Iowa, which connected on just 3 of 16 3-point shots. Over the last four games, Iowa is just 19-for-78 from 3-point range, a 24.4% clip for a team typically known for its offensive efficiency.Iowa coach Fran McCaffery chalked the night up as a bad one with shots but not with shot selection.“I’ll be honest with you, I thought our offense was pretty good. We got good shots. Yeah, they were physical. Yeah, they work. … But we got it to the front of the rim. We got open 3s. We moved the ball.”“I don’t remember a really bad 3. ... If you’re open, shoot it. We’ve got good shooters and didn’t make shots tonight.”Duke guard Jeremy Roach led all players with 22 points. Mark Mitchell, who did a nice job defending Iowa star Kris Murray, scored 17.Patrick McCaffery (12 points), Dasonte Bowen (12 points, all in the second half) and Filip Rebraca (10 points) led the Hawkeyes in scoring. Murray (who was averaging 21 points a game) was held to eight points and seven rebounds, along with three assists.Iowa’s sleepy start saw Murray (fresh off a 31-point, 20-rebound performance a week earlier against Georgia Tech) air-ball the first 2-pointer he attempted and both 3-pointers he tried. Rebraca missed at least three close-range layups. Payton Sandfort’s shot was off again (2-for-7). The Hawkeyes were allowing Duke, a team that shoots 30.5% from 3-point range, a lot of open looks. And the Blue Devils knocked down 6 of 11 3-point attempts in the first half to Iowa’s 2-for-9. No Hawkeye player scored more than five first-half points.Yet, somehow, Iowa’s halftime deficit was only 37-31. Duke’s lead grew to 36-24 after making six straight shots at one point, but the Hawkeyes buckled down on defense to chip away at the lead before the break. A Kyle Filipowski missed free throw (on the front end of a one-and-one) with 7 seconds left in the first half may not have seemed important, but it was. Patrick McCaffery secured the rebound, Ahron Ulis hurried up the floor and found Rebraca for a layup at the buzzer to slice the lead to six. That seemed to give the Hawkeyes a little lift going into the halftime locker room; that as poorly as they played, they still had a chance.However, that hope was quickly diminished as Tony Perkins (2-for-10 shooting) air-balled Iowa's first shot of the second half, signaling more struggles to come. Duke roared to a 56-41 advantage by the under-12 media timeout, and it was clear that this was not the Hawkeyes' night.A late 8-0 run, fueled by freshman Bowen, allowed Iowa to cut it to 68-60 with 1:11 left before Duke put things away.Iowa next faces Iowa State in quick-turnaround game at 7 p.m. Thursday in Iowa City. The Cyclones (7-1) clobbered the Hawkeyes a year ago in Ames, 73-53.View CommentsView Comments\n"
     ]
    }
   ],
   "source": [
    "s = BeautifulSoup(article_html, parser)\n",
    "article_element = s.find('article')\n",
    "print(article_element.get_text())"
   ]
  },
  {
   "cell_type": "code",
   "execution_count": 6,
   "metadata": {},
   "outputs": [
    {
     "name": "stdout",
     "output_type": "stream",
     "text": [
      "This is the polarity of my article.\n",
      "Polarity: 0.08600088183421513\n",
      "The are 39 sentences in the article.\n"
     ]
    }
   ],
   "source": [
    "from spacytextblob.spacytextblob import SpacyTextBlob\n",
    "\n",
    "nlp = spacy.load('en_core_web_sm')\n",
    "nlp.add_pipe('spacytextblob')\n",
    "doc = nlp(article_element.get_text())\n",
    "print('This is the polarity of my article.')\n",
    "print(f'Polarity: {doc._.polarity}')\n",
    "\n",
    "\n",
    "\n",
    "\n",
    "with open('python-match.pkl') as f: \n",
    "    sentence_tokens = [[token.text for token in sent] for sent in doc.sents]\n",
    "    print(f'The are {len(sentence_tokens)} sentences in the article.')\n",
    "\n"
   ]
  },
  {
   "cell_type": "markdown",
   "metadata": {},
   "source": [
    "3. Load the article text into a trained `spaCy` pipeline, and determine the 5 most frequent tokens (converted to lower case).  Print the common tokens with an appropriate label.  Additionally, print the tokens their frequencies (with appropriate labels)"
   ]
  },
  {
   "cell_type": "markdown",
   "metadata": {},
   "source": [
    "# Answer Question 3"
   ]
  },
  {
   "cell_type": "code",
   "execution_count": 7,
   "metadata": {},
   "outputs": [
    {
     "name": "stdout",
     "output_type": "stream",
     "text": [
      "These are the common tokens in the text.\n",
      "iowa\n",
      "duke\n",
      "hawkeyes\n",
      "3\n",
      "points\n",
      "Here are the most common tokens with the frequency.\n",
      "[('iowa', 17), ('duke', 10), ('hawkeyes', 9), ('3', 7), ('points', 7)]\n"
     ]
    }
   ],
   "source": [
    "t = [token.text.lower() for token in doc if token.is_stop != True and token.is_punct != True and token.is_space != True]   \n",
    "from collections import Counter\n",
    "word_freq = Counter(t)\n",
    "common_tokens = word_freq.most_common(5)\n",
    "print('These are the common tokens in the text.')\n",
    "for word in common_tokens:\n",
    "    print(word[0])\n",
    "print('Here are the most common tokens with the frequency.')\n",
    "print(common_tokens)"
   ]
  },
  {
   "cell_type": "markdown",
   "metadata": {},
   "source": [
    "4. Load the article text into a trained `spaCy` pipeline, and determine the 5 most frequent lemmas (converted to lower case).  Print the common lemmas with an appropriate label.  Additionally, print the lemmas with their frequencies (with appropriate labels)."
   ]
  },
  {
   "cell_type": "markdown",
   "metadata": {},
   "source": [
    "# Answer Question 4"
   ]
  },
  {
   "cell_type": "code",
   "execution_count": 8,
   "metadata": {},
   "outputs": [
    {
     "name": "stdout",
     "output_type": "stream",
     "text": [
      "Here are the most common lemmas.\n",
      "iowa\n",
      "point\n",
      "duke\n",
      "hawkeyes\n",
      "shot\n",
      "These are the most common lemmas in the text with the frequency.\n",
      "[('iowa', 17), ('point', 13), ('duke', 10), ('hawkeyes', 9), ('shot', 8)]\n"
     ]
    }
   ],
   "source": [
    "def we_care_about(token):\n",
    "    return not (token.is_space or token.is_punct or token.is_stop)\n",
    "\n",
    "\n",
    "lemmas = [token.lemma_.lower() for token in doc if we_care_about(token)]\n",
    "lemma_freq = Counter(lemmas)\n",
    "common_lemmas = lemma_freq.most_common(5)\n",
    "print('Here are the most common lemmas.')\n",
    "for lemmas in common_lemmas:\n",
    "    print(lemmas[0])\n",
    "print('These are the most common lemmas in the text with the frequency.')\n",
    "print(lemma_freq.most_common(5))"
   ]
  },
  {
   "cell_type": "markdown",
   "metadata": {},
   "source": [
    "5. Make a list containing the scores (using tokens) of every sentence in the article, and plot a histogram with appropriate titles and axis labels of the scores. From your histogram, what seems to be the most common range of scores (put the answer in a comment after your code)?"
   ]
  },
  {
   "cell_type": "markdown",
   "metadata": {},
   "source": [
    "# Answer Question 5"
   ]
  },
  {
   "cell_type": "code",
   "execution_count": 9,
   "metadata": {},
   "outputs": [
    {
     "name": "stdout",
     "output_type": "stream",
     "text": [
      "Here is a list of all the scores for each sentence in the article.\n",
      "[0.11538461538461539, 0.08823529411764706, 0.058823529411764705, 0.2, 0.0, 0.08108108108108109, 0.09090909090909091, 0.10344827586206896, 0.07692307692307693, 0.05263157894736842, 0.0, 0.0, 0.0, 0.0, 0.0, 0.0, 0.0, 0.125, 0.0, 0.0, 0.1, 0.1388888888888889, 0.1, 0.058823529411764705, 0.0, 0.0, 0.15789473684210525, 0.09523809523809523, 0.1, 0.1, 0.06451612903225806, 0.0, 0.0, 0.038461538461538464, 0.037037037037037035, 0.08695652173913043, 0.08, 0.1875, 0.0625]\n"
     ]
    }
   ],
   "source": [
    "high_tokens = ['iowa', 'duke', 'hawkeyes', '3', 'points']\n",
    "sentences = list(doc.sents)\n",
    "#Finding the word count of a sentence.\n",
    "def wordCount(sentence):\n",
    "    for count in sentences:\n",
    "        count1 = 0\n",
    "        for token in sentence:\n",
    "            if not (token.is_space or token.is_punct):\n",
    "                count1 +=1\n",
    "    sent_str = str(sentence).replace('\\n','').replace('  ',' ')\n",
    "    return count1\n",
    "\n",
    "\n",
    "#Here is our function that gives the score.        \n",
    "def score_sentence_by_tokens(sentence, interesting_token):\n",
    "    for count in sentences:\n",
    "        count3 = 0 \n",
    "        for token in sentence:\n",
    "            if (token.text.lower() in interesting_token):\n",
    "                count3 +=1\n",
    "    return count3/wordCount(sentence)\n",
    "\n",
    "results = list()\n",
    "for i in range(len(sentences)):\n",
    "    results.append(score_sentence_by_tokens(sentences[i], high_tokens))\n",
    "print('Here is a list of all the scores for each sentence in the article.')    \n",
    "print(results)\n"
   ]
  },
  {
   "cell_type": "code",
   "execution_count": 10,
   "metadata": {},
   "outputs": [
    {
     "data": {
      "image/png": "[encoded data removed]",
      "text/plain": [
       "<Figure size 640x480 with 1 Axes>"
      ]
     },
     "metadata": {},
     "output_type": "display_data"
    }
   ],
   "source": [
    "plt.hist(results, bins = 8, edgecolor = 'black')\n",
    "plt.title('Histogram of Sentence Scores for Tokens')\n",
    "plt.xlabel('Scores')\n",
    "plt.ylabel('Number of Occurrences')\n",
    "plt.tight_layout()\n",
    "\n",
    "#The most common range of scores for the top 5 tokens in a sentence is from 0.0 to 0.025.  \n"
   ]
  },
  {
   "cell_type": "markdown",
   "metadata": {},
   "source": [
    "6. Make a list containing the scores (using lemmas) of every sentence in the article, and plot a histogram with appropriate titles and axis labels of the scores.  From your histogram, what seems to be the most common range of scores (put the answer in a comment after your code)?"
   ]
  },
  {
   "cell_type": "markdown",
   "metadata": {},
   "source": [
    "# Answer Question 6"
   ]
  },
  {
   "cell_type": "code",
   "execution_count": 11,
   "metadata": {},
   "outputs": [
    {
     "name": "stdout",
     "output_type": "stream",
     "text": [
      "Here is a list of all the lemma scores for each sentence in the article.\n",
      "[0.11538461538461539, 0.08823529411764706, 0.058823529411764705, 0.2, 0.0, 0.08108108108108109, 0.09090909090909091, 0.10344827586206896, 0.07692307692307693, 0.15789473684210525, 0.0, 0.25, 0.0, 0.0, 0.0, 0.0, 0.0, 0.0, 0.0, 0.09090909090909091, 0.1, 0.1388888888888889, 0.1, 0.058823529411764705, 0.0, 0.1111111111111111, 0.15789473684210525, 0.09523809523809523, 0.1, 0.1, 0.12903225806451613, 0.0, 0.0, 0.038461538461538464, 0.07407407407407407, 0.08695652173913043, 0.08, 0.1875, 0.0625]\n"
     ]
    }
   ],
   "source": [
    "high_lemmas = ['iowa', 'point', 'duke', 'hawkeyes', 'shot']\n",
    "\n",
    "def score_sentence_by_lemma(sentence, interesting_lemma):\n",
    "    for count in sentences:\n",
    "        count3 = 0 \n",
    "        for token in sentence:\n",
    "            if (token.lemma_.lower() in interesting_lemma):\n",
    "                count3 +=1\n",
    "    return count3/wordCount(sentence)\n",
    "\n",
    "results1 = list()\n",
    "for i in range(len(sentences)):\n",
    "    results1.append(score_sentence_by_lemma(sentences[i], high_lemmas))\n",
    "print('Here is a list of all the lemma scores for each sentence in the article.')    \n",
    "print(results1)"
   ]
  },
  {
   "cell_type": "code",
   "execution_count": 12,
   "metadata": {},
   "outputs": [
    {
     "data": {
      "image/png": "[encoded data removed]",
      "text/plain": [
       "<Figure size 640x480 with 1 Axes>"
      ]
     },
     "metadata": {},
     "output_type": "display_data"
    }
   ],
   "source": [
    "plt.hist(results1, bins = 10, edgecolor = 'black')\n",
    "plt.title('Histogram of Sentence Scores for Lemmas')\n",
    "plt.xlabel('Scores')\n",
    "plt.ylabel('Number of Occurrences')\n",
    "plt.tight_layout()\n",
    "\n",
    "#The most common score for lemmas in a sentence is from 0.0 to 0.025."
   ]
  },
  {
   "cell_type": "markdown",
   "metadata": {},
   "source": [
    "7. Using the histograms from questions 5 and 6, decide a \"cutoff\" score for tokens and lemmas such that fewer than half the sentences would have a score greater than the cutoff score.  Record the scores in this Markdown cell\n",
    "\n",
    "* Cutoff Score (tokens): \n",
    "* Cutoff Score (lemmas):\n",
    "\n",
    "Feel free to change these scores as you generate your summaries.  Ideally, we're shooting for at least 6 sentences for our summary, but don't want more than 10 (these numbers are rough estimates; they depend on the length of your article)."
   ]
  },
  {
   "cell_type": "markdown",
   "metadata": {},
   "source": [
    "# Answer Question 7"
   ]
  },
  {
   "cell_type": "markdown",
   "metadata": {},
   "source": [
    "My cutoff score for tokens is 0.11.    \n",
    "The cutoff score for lemmas is 0.125."
   ]
  },
  {
   "cell_type": "markdown",
   "metadata": {},
   "source": [
    "8. Create a summary of the article by going through every sentence in the article and adding it to an (initially) empty list if its score (based on tokens) is greater than the cutoff score you identified in question 8.  If your loop variable is named `sent`, you may find it easier to add `sent.text.strip()` to your list of sentences.  Print the summary (I would cleanly generate the summary text by `join`ing the strings in your list together with a space (`' '.join(sentence_list)`)."
   ]
  },
  {
   "cell_type": "markdown",
   "metadata": {},
   "source": [
    "# Answer Question 8"
   ]
  },
  {
   "cell_type": "code",
   "execution_count": 13,
   "metadata": {},
   "outputs": [
    {
     "name": "stdout",
     "output_type": "stream",
     "text": [
      "I played around with the cutoff score so I would have at least six sentences.\n",
      "[0.11538461538461539, 0.2, 0.125, 0.1388888888888889, 0.15789473684210525, 0.1875]\n"
     ]
    }
   ],
   "source": [
    "results = list()\n",
    "for i in range(len(sentences)):\n",
    "    if score_sentence_by_tokens(sentences[i], high_tokens) > .11:\n",
    "         results.append(score_sentence_by_tokens(sentences[i], high_tokens))\n",
    "        \n",
    "print('I played around with the cutoff score so I would have at least six sentences.')       \n",
    "print(results)"
   ]
  },
  {
   "cell_type": "code",
   "execution_count": 38,
   "metadata": {},
   "outputs": [
    {
     "name": "stdout",
     "output_type": "stream",
     "text": [
      "[\"IOWA MEN'S BASKETBALLJimmy V Classic: Cold-shooting Iowa flops in big-stage loss to No. 15 Duke Chad LeistikowDes Moines RegisterView CommentsView CommentsNEW YORK −\", 'Duke fans chanted, \"Our house!\"', '”“I don’t remember a really bad 3. ...', 'Mark Mitchell, who did a nice job defending Iowa star Kris Murray, scored 17.Patrick McCaffery (12 points), Dasonte Bowen (12 points, all in the second half) and Filip Rebraca (10 points) led the Hawkeyes in scoring.', 'The Hawkeyes were allowing Duke, a team that shoots 30.5% from 3-point range, a lot of open looks.', 'Iowa next faces Iowa State in quick-turnaround game at 7 p.m. Thursday in Iowa City.']\n"
     ]
    }
   ],
   "source": [
    "summary = []\n",
    "for sentence in sentences:\n",
    "    if (score_sentence_by_tokens(sentence, high_tokens)>.11):\n",
    "        summary.append(str(sentence))\n",
    "print(summary)\n"
   ]
  },
  {
   "cell_type": "code",
   "execution_count": 40,
   "metadata": {},
   "outputs": [
    {
     "name": "stdout",
     "output_type": "stream",
     "text": [
      "IOWA MEN'S BASKETBALLJimmy V Classic: Cold-shooting Iowa flops in big-stage loss to No. 15 Duke Chad LeistikowDes Moines RegisterView CommentsView CommentsNEW YORK − Duke fans chanted, \"Our house!\" ”“I don’t remember a really bad 3. ... Mark Mitchell, who did a nice job defending Iowa star Kris Murray, scored 17.Patrick McCaffery (12 points), Dasonte Bowen (12 points, all in the second half) and Filip Rebraca (10 points) led the Hawkeyes in scoring. The Hawkeyes were allowing Duke, a team that shoots 30.5% from 3-point range, a lot of open looks. Iowa next faces Iowa State in quick-turnaround game at 7 p.m. Thursday in Iowa City.\n"
     ]
    }
   ],
   "source": [
    "iowatext = ' '.join(summary)\n",
    "print(iowatext)\n",
    "\n"
   ]
  },
  {
   "cell_type": "markdown",
   "metadata": {},
   "source": [
    "9. Print the polarity score of your summary you generated with the token scores (with an appropriate label). Additionally, print the number of sentences in the summarized article."
   ]
  },
  {
   "cell_type": "markdown",
   "metadata": {},
   "source": [
    "# Answer Question 9"
   ]
  },
  {
   "cell_type": "code",
   "execution_count": 41,
   "metadata": {},
   "outputs": [
    {
     "name": "stdout",
     "output_type": "stream",
     "text": [
      "This is the polarity score for the summary text of my article.\n",
      "-0.05729166666666666\n"
     ]
    }
   ],
   "source": [
    "def polarity_score(f):\n",
    "    import json\n",
    "    import spacy\n",
    "    from spacytextblob.spacytextblob import SpacyTextBlob\n",
    "    \n",
    "    nlp = spacy.load('en_core_web_sm')\n",
    "    nlp.add_pipe('spacytextblob')\n",
    "    dociowa= nlp(iowatext)\n",
    "    print(dociowa._.blob.polarity)\n",
    "print('This is the polarity score for the summary text of my article.')\n",
    "polarity_score('summary')"
   ]
  },
  {
   "cell_type": "code",
   "execution_count": 45,
   "metadata": {},
   "outputs": [
    {
     "name": "stdout",
     "output_type": "stream",
     "text": [
      "The are 6 sentences in the summary.\n"
     ]
    }
   ],
   "source": [
    "dociowa = nlp(iowatext)\n",
    "sentence_tokensiowa = [[token.text for token in sent] for sent in dociowa.sents]\n",
    "print(f'The are {len(sentence_tokensiowa)} sentences in the summary.')"
   ]
  },
  {
   "cell_type": "markdown",
   "metadata": {},
   "source": [
    "10. Create a summary of the article by going through every sentence in the article and adding it to an (initially) empty list if its score (based on lemmas) is greater than the cutoff score you identified in question 8.  If your loop variable is named `sent`, you may find it easier to add `sent.text.strip()` to your list of sentences.  Print the summary (I would cleanly generate the summary text by `join`ing the strings in your list together with a space (`' '.join(sentence_list)`)."
   ]
  },
  {
   "cell_type": "markdown",
   "metadata": {},
   "source": [
    "# Answer Question 10"
   ]
  },
  {
   "cell_type": "code",
   "execution_count": 133,
   "metadata": {},
   "outputs": [
    {
     "name": "stdout",
     "output_type": "stream",
     "text": [
      "[0.2, 0.15789473684210525, 0.25, 0.1388888888888889, 0.15789473684210525, 0.12903225806451613, 0.1875]\n"
     ]
    }
   ],
   "source": [
    "results1 = list()\n",
    "for i in range(len(sentences)):\n",
    "    if score_sentence_by_lemma(sentences[i], high_lemmas)>.125:\n",
    "        results1.append(score_sentence_by_lemma(sentences[i], high_lemmas))\n",
    "print(results1)\n",
    "    "
   ]
  },
  {
   "cell_type": "code",
   "execution_count": 23,
   "metadata": {},
   "outputs": [
    {
     "name": "stdout",
     "output_type": "stream",
     "text": [
      "['Duke fans chanted, \"Our house!\"', 'Iowa coach Fran McCaffery chalked the night up as a bad one with shots but not with shot selection.', 'We got good shots.', 'Mark Mitchell, who did a nice job defending Iowa star Kris Murray, scored 17.Patrick McCaffery (12 points), Dasonte Bowen (12 points, all in the second half) and Filip Rebraca (10 points) led the Hawkeyes in scoring.', 'The Hawkeyes were allowing Duke, a team that shoots 30.5% from 3-point range, a lot of open looks.', 'Duke’s lead grew to 36-24 after making six straight shots at one point, but the Hawkeyes buckled down on defense to chip away at the lead before the break.', 'Iowa next faces Iowa State in quick-turnaround game at 7 p.m. Thursday in Iowa City.']\n"
     ]
    }
   ],
   "source": [
    "summary1 = []\n",
    "for sentence in sentences:\n",
    "    if (score_sentence_by_lemma(sentence, high_lemmas)>.125):\n",
    "        summary1.append(str(sentence))\n",
    "print(summary1)\n"
   ]
  },
  {
   "cell_type": "code",
   "execution_count": 34,
   "metadata": {},
   "outputs": [
    {
     "name": "stdout",
     "output_type": "stream",
     "text": [
      "Duke fans chanted, \"Our house!\" Iowa coach Fran McCaffery chalked the night up as a bad one with shots but not with shot selection. We got good shots. Mark Mitchell, who did a nice job defending Iowa star Kris Murray, scored 17.Patrick McCaffery (12 points), Dasonte Bowen (12 points, all in the second half) and Filip Rebraca (10 points) led the Hawkeyes in scoring. The Hawkeyes were allowing Duke, a team that shoots 30.5% from 3-point range, a lot of open looks. Duke’s lead grew to 36-24 after making six straight shots at one point, but the Hawkeyes buckled down on defense to chip away at the lead before the break. Iowa next faces Iowa State in quick-turnaround game at 7 p.m. Thursday in Iowa City.\n"
     ]
    }
   ],
   "source": [
    "my_text = ' '.join(summary1)\n",
    "print(my_text)"
   ]
  },
  {
   "cell_type": "markdown",
   "metadata": {},
   "source": [
    "11. Print the polarity score of your summary you generated with the lemma scores (with an appropriate label). Additionally, print the number of sentences in the summarized article."
   ]
  },
  {
   "cell_type": "markdown",
   "metadata": {},
   "source": [
    "# Answer Question 11"
   ]
  },
  {
   "cell_type": "code",
   "execution_count": 35,
   "metadata": {},
   "outputs": [
    {
     "name": "stdout",
     "output_type": "stream",
     "text": [
      "This is the polarity score with lemmas for the summary text of my article.\n",
      "0.007777777777777795\n"
     ]
    }
   ],
   "source": [
    "def polarity_score(f):\n",
    "    import spacy\n",
    "    from spacytextblob.spacytextblob import SpacyTextBlob\n",
    "    \n",
    "    nlp = spacy.load('en_core_web_sm')\n",
    "    nlp.add_pipe('spacytextblob')\n",
    "    doc1 = nlp(my_text)\n",
    "    print(doc1._.blob.polarity)\n",
    "print('This is the polarity score with lemmas for the summary text of my article.')\n",
    "polarity_score('summary1')"
   ]
  },
  {
   "cell_type": "code",
   "execution_count": 47,
   "metadata": {},
   "outputs": [
    {
     "name": "stdout",
     "output_type": "stream",
     "text": [
      "The are 7 sentences in the lemmas summary.\n"
     ]
    }
   ],
   "source": [
    "doc1 = nlp(my_text)\n",
    "sentence_tokens = [[token.text for token in sent] for sent in doc1.sents]\n",
    "print(f'The are {len(sentence_tokens)} sentences in the lemmas summary.')"
   ]
  },
  {
   "cell_type": "markdown",
   "metadata": {},
   "source": [
    "12.  Compare your polarity scores of your summaries to the polarity scores of the initial article.  Is there a difference?  Why do you think that may or may not be?.  Answer in this Markdown cell.  "
   ]
  },
  {
   "cell_type": "markdown",
   "metadata": {},
   "source": [
    "There is a difference in polarity.  Overall the polarity of the article is positive with the summary with top tokens having a negative polarity and the summary with top lemmas having a polarity close to zero.  I would expect the polarities to be negative because it was an article from an Iowa perspective after a loss, but I do see in the overall article words such as nice, good and other positive words probably bring up the polarity score.  However, in the first summary it make sense that this text would have a negative polarity score with such words as bad, flop, and other negative words.  "
   ]
  },
  {
   "cell_type": "markdown",
   "metadata": {},
   "source": [
    "13. Based on your reading of the original article, which summary do you think is better (if there's a difference).  Why do you think this might be?"
   ]
  },
  {
   "cell_type": "markdown",
   "metadata": {},
   "source": [
    "Like I previously stated, I would have expected the polarity of the article to be negative.  I don't really know why, but I feel since the summary with the top tokens is negative, it is more representative of what the polarity should be.  I don't really see any negative words in my top tokens, so it must have randomly picked out sentences with words that have negative polarity or connotation.  "
   ]
  }
 ],
 "metadata": {
  "kernelspec": {
   "display_name": "Python 3 (ipykernel)",
   "language": "python",
   "name": "python3"
  },
  "language_info": {
   "codemirror_mode": {
    "name": "ipython",
    "version": 3
   },
   "file_extension": ".py",
   "mimetype": "text/x-python",
   "name": "python",
   "nbconvert_exporter": "python",
   "pygments_lexer": "ipython3",
   "version": "3.9.12"
  }
 },
 "nbformat": 4,
 "nbformat_minor": 4
}
